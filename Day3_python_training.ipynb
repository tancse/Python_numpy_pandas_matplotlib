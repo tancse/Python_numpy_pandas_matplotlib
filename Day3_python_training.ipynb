{
 "cells": [
  {
   "cell_type": "markdown",
   "metadata": {},
   "source": [
    "# DAY 3\n",
    "\n",
    "- Modularization\n",
    "    - Functions\n",
    "    - Classes\n",
    "    - Modules / packages\n",
    "    "
   ]
  },
  {
   "cell_type": "markdown",
   "metadata": {},
   "source": [
    "# Functions"
   ]
  },
  {
   "cell_type": "code",
   "execution_count": 1,
   "metadata": {},
   "outputs": [
    {
     "data": {
      "text/plain": [
       "10"
      ]
     },
     "execution_count": 1,
     "metadata": {},
     "output_type": "execute_result"
    }
   ],
   "source": [
    "f=open('data.txt')\n",
    "nwords=0\n",
    "\n",
    "for line in f:\n",
    "    for word in line.split():\n",
    "        if word.isalpha():\n",
    "            nwords += 1\n",
    "\n",
    "nwords"
   ]
  },
  {
   "cell_type": "code",
   "execution_count": 2,
   "metadata": {},
   "outputs": [],
   "source": [
    "def square(num):\n",
    "    return num**2"
   ]
  },
  {
   "cell_type": "code",
   "execution_count": 3,
   "metadata": {},
   "outputs": [
    {
     "data": {
      "text/plain": [
       "100"
      ]
     },
     "execution_count": 3,
     "metadata": {},
     "output_type": "execute_result"
    }
   ],
   "source": [
    "square(10)"
   ]
  },
  {
   "cell_type": "code",
   "execution_count": 6,
   "metadata": {},
   "outputs": [],
   "source": [
    "def alpha_word_count(fname):\n",
    "    f =open(fname)\n",
    "    nalpha_words=0\n",
    "    for line in f:\n",
    "        for word in line.split():\n",
    "            if word.isalpha():\n",
    "                nalpha_words+=1\n",
    "    f.close()\n",
    "\n",
    "    return nalpha_words"
   ]
  },
  {
   "cell_type": "code",
   "execution_count": 7,
   "metadata": {},
   "outputs": [
    {
     "data": {
      "text/plain": [
       "20154"
      ]
     },
     "execution_count": 7,
     "metadata": {},
     "output_type": "execute_result"
    }
   ],
   "source": [
    "alpha_word_count('alice.txt')"
   ]
  },
  {
   "cell_type": "markdown",
   "metadata": {},
   "source": [
    "# Object Orientation\n",
    "    -Data\n",
    "    -Functions/Methods\n",
    "    -Encapsulation: Data+code\n",
    "    -Inheritance\n",
    "    -Statics\n",
    "        -data\n",
    "        -method"
   ]
  },
  {
   "cell_type": "markdown",
   "metadata": {},
   "source": [
    "# Bank Account\n",
    "    -Data\n",
    "        -Account num\n",
    "        -Name\n",
    "        -Balance\n",
    "    -Operations\n",
    "        -Deposit\n",
    "        -Withdraw\n",
    "        -Check balance\n",
    "    "
   ]
  },
  {
   "cell_type": "code",
   "execution_count": 27,
   "metadata": {},
   "outputs": [],
   "source": [
    "class BankAccount:\n",
    "    def __init__(self, accnum, name, balance): #constructor in python also called magic methods \n",
    "        self.accnum = accnum                   #self is the reference to the instance\n",
    "        self.name = name\n",
    "        self.balance = balance\n",
    "    \n",
    "    def deposit(self, amt):\n",
    "        self.balance += amt\n",
    "\n",
    "    def withdraw(self, amt):\n",
    "        if self.Check_balance()>=amt:\n",
    "            self.balance -= amt\n",
    "\n",
    "    def Check_balance(self):\n",
    "        return self.balance   \n"
   ]
  },
  {
   "cell_type": "code",
   "execution_count": 10,
   "metadata": {},
   "outputs": [
    {
     "data": {
      "text/plain": [
       "<__main__.BankAccount at 0x21a5899ba90>"
      ]
     },
     "execution_count": 10,
     "metadata": {},
     "output_type": "execute_result"
    }
   ],
   "source": [
    "BankAccount() #called the constructor"
   ]
  },
  {
   "cell_type": "code",
   "execution_count": 12,
   "metadata": {},
   "outputs": [
    {
     "ename": "TypeError",
     "evalue": "BankAccount.__init__() takes 1 positional argument but 4 were given",
     "output_type": "error",
     "traceback": [
      "\u001b[1;31m---------------------------------------------------------------------------\u001b[0m",
      "\u001b[1;31mTypeError\u001b[0m                                 Traceback (most recent call last)",
      "Cell \u001b[1;32mIn[12], line 1\u001b[0m\n\u001b[1;32m----> 1\u001b[0m \u001b[43mBankAccount\u001b[49m\u001b[43m(\u001b[49m\u001b[38;5;241;43m123\u001b[39;49m\u001b[43m,\u001b[49m\u001b[38;5;124;43m'\u001b[39;49m\u001b[38;5;124;43mabc\u001b[39;49m\u001b[38;5;124;43m'\u001b[39;49m\u001b[43m,\u001b[49m\u001b[38;5;241;43m1000\u001b[39;49m\u001b[43m)\u001b[49m\n",
      "\u001b[1;31mTypeError\u001b[0m: BankAccount.__init__() takes 1 positional argument but 4 were given"
     ]
    }
   ],
   "source": [
    "BankAccount(123,'abc',1000) #after adding the arguments to the constructor it worked normally."
   ]
  },
  {
   "cell_type": "code",
   "execution_count": 29,
   "metadata": {},
   "outputs": [],
   "source": [
    "acc1 =BankAccount(123,'abc',1000)"
   ]
  },
  {
   "cell_type": "code",
   "execution_count": 31,
   "metadata": {},
   "outputs": [
    {
     "data": {
      "text/plain": [
       "11000"
      ]
     },
     "execution_count": 31,
     "metadata": {},
     "output_type": "execute_result"
    }
   ],
   "source": [
    "acc1.deposit(10000)\n",
    "acc1.withdraw(100000)\n",
    "acc1.Check_balance()"
   ]
  },
  {
   "cell_type": "markdown",
   "metadata": {},
   "source": [
    "# Data file Format\n",
    "    -csv\n",
    "    -json\n",
    "    -xls"
   ]
  },
  {
   "cell_type": "code",
   "execution_count": 2,
   "metadata": {},
   "outputs": [],
   "source": [
    "import csv"
   ]
  },
  {
   "cell_type": "code",
   "execution_count": 33,
   "metadata": {},
   "outputs": [
    {
     "data": {
      "text/plain": [
       "<module 'csv' from 'C:\\\\Program Files\\\\WindowsApps\\\\PythonSoftwareFoundation.Python.3.11_3.11.2544.0_x64__qbz5n2kfra8p0\\\\Lib\\\\csv.py'>"
      ]
     },
     "execution_count": 33,
     "metadata": {},
     "output_type": "execute_result"
    }
   ],
   "source": [
    "csv"
   ]
  },
  {
   "cell_type": "code",
   "execution_count": 34,
   "metadata": {},
   "outputs": [
    {
     "data": {
      "text/plain": [
       "module"
      ]
     },
     "execution_count": 34,
     "metadata": {},
     "output_type": "execute_result"
    }
   ],
   "source": [
    "type(csv)"
   ]
  },
  {
   "cell_type": "code",
   "execution_count": 47,
   "metadata": {},
   "outputs": [
    {
     "name": "stdout",
     "output_type": "stream",
     "text": [
      "['total_bill', 'tip']\n",
      "['16.99', '1.01']\n",
      "['10.34', '1.66']\n",
      "['21.01', '3.5']\n",
      "['23.68', '3.31']\n",
      "['24.59', '3.61']\n",
      "['25.29', '4.71']\n",
      "['8.77', '2']\n",
      "['26.88', '3.12']\n",
      "['15.04', '1.96']\n",
      "['14.78', '3.23']\n",
      "['10.27', '1.71']\n",
      "['35.26', '5']\n",
      "['15.42', '1.57']\n",
      "['18.43', '3']\n",
      "['14.83', '3.02']\n",
      "['21.58', '3.92']\n",
      "['10.33', '1.67']\n",
      "['16.29', '3.71']\n",
      "['16.97', '3.5']\n",
      "['20.65', '3.35']\n",
      "['17.92', '4.08']\n",
      "['20.29', '2.75']\n",
      "['15.77', '2.23']\n",
      "['39.42', '7.58']\n",
      "['19.82', '3.18']\n",
      "['17.81', '2.34']\n",
      "['13.37', '2']\n",
      "['12.69', '2']\n",
      "['21.7', '4.3']\n",
      "['19.65', '3']\n",
      "['9.55', '1.45']\n",
      "['18.35', '2.5']\n",
      "['15.06', '3']\n",
      "['20.69', '2.45']\n",
      "['17.78', '3.27']\n",
      "['24.06', '3.6']\n",
      "['16.31', '2']\n",
      "['16.93', '3.07']\n",
      "['18.69', '2.31']\n",
      "['31.27', '5']\n",
      "['16.04', '2.24']\n",
      "['17.46', '2.54']\n",
      "['13.94', '3.06']\n",
      "['9.68', '1.32']\n",
      "['30.4', '5.6']\n",
      "['18.29', '3']\n",
      "['22.23', '5']\n",
      "['32.4', '6']\n",
      "['28.55', '2.05']\n",
      "['18.04', '3']\n",
      "['12.54', '2.5']\n",
      "['10.29', '2.6']\n",
      "['34.81', '5.2']\n",
      "['9.94', '1.56']\n",
      "['25.56', '4.34']\n",
      "['19.49', '3.51']\n",
      "['38.01', '3']\n",
      "['26.41', '1.5']\n",
      "['11.24', '1.76']\n",
      "['48.27', '6.73']\n",
      "['20.29', '3.21']\n",
      "['13.81', '2']\n",
      "['11.02', '1.98']\n",
      "['18.29', '3.76']\n",
      "['17.59', '2.64']\n",
      "['20.08', '3.15']\n",
      "['16.45', '2.47']\n",
      "['3.07', '1']\n",
      "['20.23', '2.01']\n",
      "['15.01', '2.09']\n",
      "['12.02', '1.97']\n",
      "['17.07', '3']\n",
      "['26.86', '3.14']\n",
      "['25.28', '5']\n",
      "['14.73', '2.2']\n",
      "['10.51', '1.25']\n",
      "['17.92', '3.08']\n",
      "['27.2', '4']\n",
      "['22.76', '3']\n",
      "['17.29', '2.71']\n",
      "['19.44', '3']\n",
      "['16.66', '3.4']\n",
      "['10.07', '1.83']\n",
      "['32.68', '5']\n",
      "['15.98', '2.03']\n",
      "['34.83', '5.17']\n",
      "['13.03', '2']\n",
      "['18.28', '4']\n",
      "['24.71', '5.85']\n",
      "['21.16', '3']\n",
      "['28.97', '3']\n",
      "['22.49', '3.5']\n",
      "['5.75', '1']\n",
      "['16.32', '4.3']\n",
      "['22.75', '3.25']\n",
      "['40.17', '4.73']\n",
      "['27.28', '4']\n",
      "['12.03', '1.5']\n",
      "['21.01', '3']\n",
      "['12.46', '1.5']\n",
      "['11.35', '2.5']\n",
      "['15.38', '3']\n",
      "['44.3', '2.5']\n",
      "['22.42', '3.48']\n",
      "['20.92', '4.08']\n",
      "['15.36', '1.64']\n",
      "['20.49', '4.06']\n",
      "['25.21', '4.29']\n",
      "['18.24', '3.76']\n",
      "['14.31', '4']\n",
      "['14', '3']\n",
      "['7.25', '1']\n",
      "['38.07', '4']\n",
      "['23.95', '2.55']\n",
      "['25.71', '4']\n",
      "['17.31', '3.5']\n",
      "['29.93', '5.07']\n",
      "['10.65', '1.5']\n",
      "['12.43', '1.8']\n",
      "['24.08', '2.92']\n",
      "['11.69', '2.31']\n",
      "['13.42', '1.68']\n",
      "['14.26', '2.5']\n",
      "['15.95', '2']\n",
      "['12.48', '2.52']\n",
      "['29.8', '4.2']\n",
      "['8.52', '1.48']\n",
      "['14.52', '2']\n",
      "['11.38', '2']\n",
      "['22.82', '2.18']\n",
      "['19.08', '1.5']\n",
      "['20.27', '2.83']\n",
      "['11.17', '1.5']\n",
      "['12.26', '2']\n",
      "['18.26', '3.25']\n",
      "['8.51', '1.25']\n",
      "['10.33', '2']\n",
      "['14.15', '2']\n",
      "['16', '2']\n",
      "['13.16', '2.75']\n",
      "['17.47', '3.5']\n",
      "['34.3', '6.7']\n",
      "['41.19', '5']\n",
      "['27.05', '5']\n",
      "['16.43', '2.3']\n",
      "['8.35', '1.5']\n",
      "['18.64', '1.36']\n",
      "['11.87', '1.63']\n",
      "['9.78', '1.73']\n",
      "['7.51', '2']\n",
      "['14.07', '2.5']\n",
      "['13.13', '2']\n",
      "['17.26', '2.74']\n",
      "['24.55', '2']\n",
      "['19.77', '2']\n",
      "['29.85', '5.14']\n",
      "['48.17', '5']\n",
      "['25', '3.75']\n",
      "['13.39', '2.61']\n",
      "['16.49', '2']\n",
      "['21.5', '3.5']\n",
      "['12.66', '2.5']\n",
      "['16.21', '2']\n",
      "['13.81', '2']\n",
      "['17.51', '3']\n",
      "['24.52', '3.48']\n",
      "['20.76', '2.24']\n",
      "['31.71', '4.5']\n",
      "['10.59', '1.61']\n",
      "['10.63', '2']\n",
      "['50.81', '10']\n",
      "['15.81', '3.16']\n",
      "['7.25', '5.15']\n",
      "['31.85', '3.18']\n",
      "['16.82', '4']\n",
      "['32.9', '3.11']\n",
      "['17.89', '2']\n",
      "['14.48', '2']\n",
      "['9.6', '4']\n",
      "['34.63', '3.55']\n",
      "['34.65', '3.68']\n",
      "['23.33', '5.65']\n",
      "['45.35', '3.5']\n",
      "['23.17', '6.5']\n",
      "['40.55', '3']\n",
      "['20.69', '5']\n",
      "['20.9', '3.5']\n",
      "['30.46', '2']\n",
      "['18.15', '3.5']\n",
      "['23.1', '4']\n",
      "['15.69', '1.5']\n",
      "['19.81', '4.19']\n",
      "['28.44', '2.56']\n",
      "['15.48', '2.02']\n",
      "['16.58', '4']\n",
      "['7.56', '1.44']\n",
      "['10.34', '2']\n",
      "['43.11', '5']\n",
      "['13', '2']\n",
      "['13.51', '2']\n",
      "['18.71', '4']\n",
      "['12.74', '2.01']\n",
      "['13', '2']\n",
      "['16.4', '2.5']\n",
      "['20.53', '4']\n",
      "['16.47', '3.23']\n",
      "['26.59', '3.41']\n",
      "['38.73', '3']\n",
      "['24.27', '2.03']\n",
      "['12.76', '2.23']\n",
      "['30.06', '2']\n",
      "['25.89', '5.16']\n",
      "['48.33', '9']\n",
      "['13.27', '2.5']\n",
      "['28.17', '6.5']\n",
      "['12.9', '1.1']\n",
      "['28.15', '3']\n",
      "['11.59', '1.5']\n",
      "['7.74', '1.44']\n",
      "['30.14', '3.09']\n",
      "['12.16', '2.2']\n",
      "['13.42', '3.48']\n",
      "['8.58', '1.92']\n",
      "['15.98', '3']\n",
      "['13.42', '1.58']\n",
      "['16.27', '2.5']\n",
      "['10.09', '2']\n",
      "['20.45', '3']\n",
      "['13.28', '2.72']\n",
      "['22.12', '2.88']\n",
      "['24.01', '2']\n",
      "['15.69', '3']\n",
      "['11.61', '3.39']\n",
      "['10.77', '1.47']\n",
      "['15.53', '3']\n",
      "['10.07', '1.25']\n",
      "['12.6', '1']\n",
      "['32.83', '1.17']\n",
      "['35.83', '4.67']\n",
      "['29.03', '5.92']\n",
      "['27.18', '2']\n",
      "['22.67', '2']\n",
      "['17.82', '1.75']\n",
      "['18.78', '3']\n"
     ]
    }
   ],
   "source": [
    "with open('tips.csv') as f:\n",
    "    rdr = csv.reader(f)\n",
    "    for row in rdr:\n",
    "        print(row[:2])"
   ]
  },
  {
   "cell_type": "code",
   "execution_count": 37,
   "metadata": {},
   "outputs": [
    {
     "data": {
      "text/plain": [
       "True"
      ]
     },
     "execution_count": 37,
     "metadata": {},
     "output_type": "execute_result"
    }
   ],
   "source": [
    "f.closed"
   ]
  },
  {
   "cell_type": "code",
   "execution_count": 38,
   "metadata": {},
   "outputs": [
    {
     "data": {
      "text/plain": [
       "[10, 20]"
      ]
     },
     "execution_count": 38,
     "metadata": {},
     "output_type": "execute_result"
    }
   ],
   "source": [
    "nums = [10,20,30,40]\n",
    "nums[:2]"
   ]
  },
  {
   "cell_type": "code",
   "execution_count": 39,
   "metadata": {},
   "outputs": [],
   "source": [
    "f = open('data.txt')"
   ]
  },
  {
   "cell_type": "code",
   "execution_count": 46,
   "metadata": {},
   "outputs": [
    {
     "ename": "StopIteration",
     "evalue": "",
     "output_type": "error",
     "traceback": [
      "\u001b[1;31m---------------------------------------------------------------------------\u001b[0m",
      "\u001b[1;31mStopIteration\u001b[0m                             Traceback (most recent call last)",
      "Cell \u001b[1;32mIn[46], line 1\u001b[0m\n\u001b[1;32m----> 1\u001b[0m \u001b[38;5;28;43mnext\u001b[39;49m\u001b[43m(\u001b[49m\u001b[43mf\u001b[49m\u001b[43m)\u001b[49m\n",
      "\u001b[1;31mStopIteration\u001b[0m: "
     ]
    }
   ],
   "source": [
    "next(f)"
   ]
  },
  {
   "cell_type": "code",
   "execution_count": 49,
   "metadata": {},
   "outputs": [
    {
     "name": "stdout",
     "output_type": "stream",
     "text": [
      "['16.99', '1.01']\n",
      "['10.34', '1.66']\n",
      "['21.01', '3.5']\n",
      "['23.68', '3.31']\n",
      "['24.59', '3.61']\n",
      "['25.29', '4.71']\n",
      "['8.77', '2']\n",
      "['26.88', '3.12']\n",
      "['15.04', '1.96']\n",
      "['14.78', '3.23']\n",
      "['10.27', '1.71']\n",
      "['35.26', '5']\n",
      "['15.42', '1.57']\n",
      "['18.43', '3']\n",
      "['14.83', '3.02']\n",
      "['21.58', '3.92']\n",
      "['10.33', '1.67']\n",
      "['16.29', '3.71']\n",
      "['16.97', '3.5']\n",
      "['20.65', '3.35']\n",
      "['17.92', '4.08']\n",
      "['20.29', '2.75']\n",
      "['15.77', '2.23']\n",
      "['39.42', '7.58']\n",
      "['19.82', '3.18']\n",
      "['17.81', '2.34']\n",
      "['13.37', '2']\n",
      "['12.69', '2']\n",
      "['21.7', '4.3']\n",
      "['19.65', '3']\n",
      "['9.55', '1.45']\n",
      "['18.35', '2.5']\n",
      "['15.06', '3']\n",
      "['20.69', '2.45']\n",
      "['17.78', '3.27']\n",
      "['24.06', '3.6']\n",
      "['16.31', '2']\n",
      "['16.93', '3.07']\n",
      "['18.69', '2.31']\n",
      "['31.27', '5']\n",
      "['16.04', '2.24']\n",
      "['17.46', '2.54']\n",
      "['13.94', '3.06']\n",
      "['9.68', '1.32']\n",
      "['30.4', '5.6']\n",
      "['18.29', '3']\n",
      "['22.23', '5']\n",
      "['32.4', '6']\n",
      "['28.55', '2.05']\n",
      "['18.04', '3']\n",
      "['12.54', '2.5']\n",
      "['10.29', '2.6']\n",
      "['34.81', '5.2']\n",
      "['9.94', '1.56']\n",
      "['25.56', '4.34']\n",
      "['19.49', '3.51']\n",
      "['38.01', '3']\n",
      "['26.41', '1.5']\n",
      "['11.24', '1.76']\n",
      "['48.27', '6.73']\n",
      "['20.29', '3.21']\n",
      "['13.81', '2']\n",
      "['11.02', '1.98']\n",
      "['18.29', '3.76']\n",
      "['17.59', '2.64']\n",
      "['20.08', '3.15']\n",
      "['16.45', '2.47']\n",
      "['3.07', '1']\n",
      "['20.23', '2.01']\n",
      "['15.01', '2.09']\n",
      "['12.02', '1.97']\n",
      "['17.07', '3']\n",
      "['26.86', '3.14']\n",
      "['25.28', '5']\n",
      "['14.73', '2.2']\n",
      "['10.51', '1.25']\n",
      "['17.92', '3.08']\n",
      "['27.2', '4']\n",
      "['22.76', '3']\n",
      "['17.29', '2.71']\n",
      "['19.44', '3']\n",
      "['16.66', '3.4']\n",
      "['10.07', '1.83']\n",
      "['32.68', '5']\n",
      "['15.98', '2.03']\n",
      "['34.83', '5.17']\n",
      "['13.03', '2']\n",
      "['18.28', '4']\n",
      "['24.71', '5.85']\n",
      "['21.16', '3']\n",
      "['28.97', '3']\n",
      "['22.49', '3.5']\n",
      "['5.75', '1']\n",
      "['16.32', '4.3']\n",
      "['22.75', '3.25']\n",
      "['40.17', '4.73']\n",
      "['27.28', '4']\n",
      "['12.03', '1.5']\n",
      "['21.01', '3']\n",
      "['12.46', '1.5']\n",
      "['11.35', '2.5']\n",
      "['15.38', '3']\n",
      "['44.3', '2.5']\n",
      "['22.42', '3.48']\n",
      "['20.92', '4.08']\n",
      "['15.36', '1.64']\n",
      "['20.49', '4.06']\n",
      "['25.21', '4.29']\n",
      "['18.24', '3.76']\n",
      "['14.31', '4']\n",
      "['14', '3']\n",
      "['7.25', '1']\n",
      "['38.07', '4']\n",
      "['23.95', '2.55']\n",
      "['25.71', '4']\n",
      "['17.31', '3.5']\n",
      "['29.93', '5.07']\n",
      "['10.65', '1.5']\n",
      "['12.43', '1.8']\n",
      "['24.08', '2.92']\n",
      "['11.69', '2.31']\n",
      "['13.42', '1.68']\n",
      "['14.26', '2.5']\n",
      "['15.95', '2']\n",
      "['12.48', '2.52']\n",
      "['29.8', '4.2']\n",
      "['8.52', '1.48']\n",
      "['14.52', '2']\n",
      "['11.38', '2']\n",
      "['22.82', '2.18']\n",
      "['19.08', '1.5']\n",
      "['20.27', '2.83']\n",
      "['11.17', '1.5']\n",
      "['12.26', '2']\n",
      "['18.26', '3.25']\n",
      "['8.51', '1.25']\n",
      "['10.33', '2']\n",
      "['14.15', '2']\n",
      "['16', '2']\n",
      "['13.16', '2.75']\n",
      "['17.47', '3.5']\n",
      "['34.3', '6.7']\n",
      "['41.19', '5']\n",
      "['27.05', '5']\n",
      "['16.43', '2.3']\n",
      "['8.35', '1.5']\n",
      "['18.64', '1.36']\n",
      "['11.87', '1.63']\n",
      "['9.78', '1.73']\n",
      "['7.51', '2']\n",
      "['14.07', '2.5']\n",
      "['13.13', '2']\n",
      "['17.26', '2.74']\n",
      "['24.55', '2']\n",
      "['19.77', '2']\n",
      "['29.85', '5.14']\n",
      "['48.17', '5']\n",
      "['25', '3.75']\n",
      "['13.39', '2.61']\n",
      "['16.49', '2']\n",
      "['21.5', '3.5']\n",
      "['12.66', '2.5']\n",
      "['16.21', '2']\n",
      "['13.81', '2']\n",
      "['17.51', '3']\n",
      "['24.52', '3.48']\n",
      "['20.76', '2.24']\n",
      "['31.71', '4.5']\n",
      "['10.59', '1.61']\n",
      "['10.63', '2']\n",
      "['50.81', '10']\n",
      "['15.81', '3.16']\n",
      "['7.25', '5.15']\n",
      "['31.85', '3.18']\n",
      "['16.82', '4']\n",
      "['32.9', '3.11']\n",
      "['17.89', '2']\n",
      "['14.48', '2']\n",
      "['9.6', '4']\n",
      "['34.63', '3.55']\n",
      "['34.65', '3.68']\n",
      "['23.33', '5.65']\n",
      "['45.35', '3.5']\n",
      "['23.17', '6.5']\n",
      "['40.55', '3']\n",
      "['20.69', '5']\n",
      "['20.9', '3.5']\n",
      "['30.46', '2']\n",
      "['18.15', '3.5']\n",
      "['23.1', '4']\n",
      "['15.69', '1.5']\n",
      "['19.81', '4.19']\n",
      "['28.44', '2.56']\n",
      "['15.48', '2.02']\n",
      "['16.58', '4']\n",
      "['7.56', '1.44']\n",
      "['10.34', '2']\n",
      "['43.11', '5']\n",
      "['13', '2']\n",
      "['13.51', '2']\n",
      "['18.71', '4']\n",
      "['12.74', '2.01']\n",
      "['13', '2']\n",
      "['16.4', '2.5']\n",
      "['20.53', '4']\n",
      "['16.47', '3.23']\n",
      "['26.59', '3.41']\n",
      "['38.73', '3']\n",
      "['24.27', '2.03']\n",
      "['12.76', '2.23']\n",
      "['30.06', '2']\n",
      "['25.89', '5.16']\n",
      "['48.33', '9']\n",
      "['13.27', '2.5']\n",
      "['28.17', '6.5']\n",
      "['12.9', '1.1']\n",
      "['28.15', '3']\n",
      "['11.59', '1.5']\n",
      "['7.74', '1.44']\n",
      "['30.14', '3.09']\n",
      "['12.16', '2.2']\n",
      "['13.42', '3.48']\n",
      "['8.58', '1.92']\n",
      "['15.98', '3']\n",
      "['13.42', '1.58']\n",
      "['16.27', '2.5']\n",
      "['10.09', '2']\n",
      "['20.45', '3']\n",
      "['13.28', '2.72']\n",
      "['22.12', '2.88']\n",
      "['24.01', '2']\n",
      "['15.69', '3']\n",
      "['11.61', '3.39']\n",
      "['10.77', '1.47']\n",
      "['15.53', '3']\n",
      "['10.07', '1.25']\n",
      "['12.6', '1']\n",
      "['32.83', '1.17']\n",
      "['35.83', '4.67']\n",
      "['29.03', '5.92']\n",
      "['27.18', '2']\n",
      "['22.67', '2']\n",
      "['17.82', '1.75']\n",
      "['18.78', '3']\n"
     ]
    }
   ],
   "source": [
    "with open('tips.csv') as f:\n",
    "    rdr = csv.reader(f)\n",
    "    hdr = next(rdr)\n",
    "    for row in rdr:\n",
    "        print(row[:2])"
   ]
  },
  {
   "cell_type": "code",
   "execution_count": 50,
   "metadata": {},
   "outputs": [
    {
     "name": "stdout",
     "output_type": "stream",
     "text": [
      "16.99 1.01\n",
      "10.34 1.66\n",
      "21.01 3.5\n",
      "23.68 3.31\n",
      "24.59 3.61\n",
      "25.29 4.71\n",
      "8.77 2.0\n",
      "26.88 3.12\n",
      "15.04 1.96\n",
      "14.78 3.23\n",
      "10.27 1.71\n",
      "35.26 5.0\n",
      "15.42 1.57\n",
      "18.43 3.0\n",
      "14.83 3.02\n",
      "21.58 3.92\n",
      "10.33 1.67\n",
      "16.29 3.71\n",
      "16.97 3.5\n",
      "20.65 3.35\n",
      "17.92 4.08\n",
      "20.29 2.75\n",
      "15.77 2.23\n",
      "39.42 7.58\n",
      "19.82 3.18\n",
      "17.81 2.34\n",
      "13.37 2.0\n",
      "12.69 2.0\n",
      "21.7 4.3\n",
      "19.65 3.0\n",
      "9.55 1.45\n",
      "18.35 2.5\n",
      "15.06 3.0\n",
      "20.69 2.45\n",
      "17.78 3.27\n",
      "24.06 3.6\n",
      "16.31 2.0\n",
      "16.93 3.07\n",
      "18.69 2.31\n",
      "31.27 5.0\n",
      "16.04 2.24\n",
      "17.46 2.54\n",
      "13.94 3.06\n",
      "9.68 1.32\n",
      "30.4 5.6\n",
      "18.29 3.0\n",
      "22.23 5.0\n",
      "32.4 6.0\n",
      "28.55 2.05\n",
      "18.04 3.0\n",
      "12.54 2.5\n",
      "10.29 2.6\n",
      "34.81 5.2\n",
      "9.94 1.56\n",
      "25.56 4.34\n",
      "19.49 3.51\n",
      "38.01 3.0\n",
      "26.41 1.5\n",
      "11.24 1.76\n",
      "48.27 6.73\n",
      "20.29 3.21\n",
      "13.81 2.0\n",
      "11.02 1.98\n",
      "18.29 3.76\n",
      "17.59 2.64\n",
      "20.08 3.15\n",
      "16.45 2.47\n",
      "3.07 1.0\n",
      "20.23 2.01\n",
      "15.01 2.09\n",
      "12.02 1.97\n",
      "17.07 3.0\n",
      "26.86 3.14\n",
      "25.28 5.0\n",
      "14.73 2.2\n",
      "10.51 1.25\n",
      "17.92 3.08\n",
      "27.2 4.0\n",
      "22.76 3.0\n",
      "17.29 2.71\n",
      "19.44 3.0\n",
      "16.66 3.4\n",
      "10.07 1.83\n",
      "32.68 5.0\n",
      "15.98 2.03\n",
      "34.83 5.17\n",
      "13.03 2.0\n",
      "18.28 4.0\n",
      "24.71 5.85\n",
      "21.16 3.0\n",
      "28.97 3.0\n",
      "22.49 3.5\n",
      "5.75 1.0\n",
      "16.32 4.3\n",
      "22.75 3.25\n",
      "40.17 4.73\n",
      "27.28 4.0\n",
      "12.03 1.5\n",
      "21.01 3.0\n",
      "12.46 1.5\n",
      "11.35 2.5\n",
      "15.38 3.0\n",
      "44.3 2.5\n",
      "22.42 3.48\n",
      "20.92 4.08\n",
      "15.36 1.64\n",
      "20.49 4.06\n",
      "25.21 4.29\n",
      "18.24 3.76\n",
      "14.31 4.0\n",
      "14.0 3.0\n",
      "7.25 1.0\n",
      "38.07 4.0\n",
      "23.95 2.55\n",
      "25.71 4.0\n",
      "17.31 3.5\n",
      "29.93 5.07\n",
      "10.65 1.5\n",
      "12.43 1.8\n",
      "24.08 2.92\n",
      "11.69 2.31\n",
      "13.42 1.68\n",
      "14.26 2.5\n",
      "15.95 2.0\n",
      "12.48 2.52\n",
      "29.8 4.2\n",
      "8.52 1.48\n",
      "14.52 2.0\n",
      "11.38 2.0\n",
      "22.82 2.18\n",
      "19.08 1.5\n",
      "20.27 2.83\n",
      "11.17 1.5\n",
      "12.26 2.0\n",
      "18.26 3.25\n",
      "8.51 1.25\n",
      "10.33 2.0\n",
      "14.15 2.0\n",
      "16.0 2.0\n",
      "13.16 2.75\n",
      "17.47 3.5\n",
      "34.3 6.7\n",
      "41.19 5.0\n",
      "27.05 5.0\n",
      "16.43 2.3\n",
      "8.35 1.5\n",
      "18.64 1.36\n",
      "11.87 1.63\n",
      "9.78 1.73\n",
      "7.51 2.0\n",
      "14.07 2.5\n",
      "13.13 2.0\n",
      "17.26 2.74\n",
      "24.55 2.0\n",
      "19.77 2.0\n",
      "29.85 5.14\n",
      "48.17 5.0\n",
      "25.0 3.75\n",
      "13.39 2.61\n",
      "16.49 2.0\n",
      "21.5 3.5\n",
      "12.66 2.5\n",
      "16.21 2.0\n",
      "13.81 2.0\n",
      "17.51 3.0\n",
      "24.52 3.48\n",
      "20.76 2.24\n",
      "31.71 4.5\n",
      "10.59 1.61\n",
      "10.63 2.0\n",
      "50.81 10.0\n",
      "15.81 3.16\n",
      "7.25 5.15\n",
      "31.85 3.18\n",
      "16.82 4.0\n",
      "32.9 3.11\n",
      "17.89 2.0\n",
      "14.48 2.0\n",
      "9.6 4.0\n",
      "34.63 3.55\n",
      "34.65 3.68\n",
      "23.33 5.65\n",
      "45.35 3.5\n",
      "23.17 6.5\n",
      "40.55 3.0\n",
      "20.69 5.0\n",
      "20.9 3.5\n",
      "30.46 2.0\n",
      "18.15 3.5\n",
      "23.1 4.0\n",
      "15.69 1.5\n",
      "19.81 4.19\n",
      "28.44 2.56\n",
      "15.48 2.02\n",
      "16.58 4.0\n",
      "7.56 1.44\n",
      "10.34 2.0\n",
      "43.11 5.0\n",
      "13.0 2.0\n",
      "13.51 2.0\n",
      "18.71 4.0\n",
      "12.74 2.01\n",
      "13.0 2.0\n",
      "16.4 2.5\n",
      "20.53 4.0\n",
      "16.47 3.23\n",
      "26.59 3.41\n",
      "38.73 3.0\n",
      "24.27 2.03\n",
      "12.76 2.23\n",
      "30.06 2.0\n",
      "25.89 5.16\n",
      "48.33 9.0\n",
      "13.27 2.5\n",
      "28.17 6.5\n",
      "12.9 1.1\n",
      "28.15 3.0\n",
      "11.59 1.5\n",
      "7.74 1.44\n",
      "30.14 3.09\n",
      "12.16 2.2\n",
      "13.42 3.48\n",
      "8.58 1.92\n",
      "15.98 3.0\n",
      "13.42 1.58\n",
      "16.27 2.5\n",
      "10.09 2.0\n",
      "20.45 3.0\n",
      "13.28 2.72\n",
      "22.12 2.88\n",
      "24.01 2.0\n",
      "15.69 3.0\n",
      "11.61 3.39\n",
      "10.77 1.47\n",
      "15.53 3.0\n",
      "10.07 1.25\n",
      "12.6 1.0\n",
      "32.83 1.17\n",
      "35.83 4.67\n",
      "29.03 5.92\n",
      "27.18 2.0\n",
      "22.67 2.0\n",
      "17.82 1.75\n",
      "18.78 3.0\n"
     ]
    }
   ],
   "source": [
    "# type correction for the numericals from string to numbers/integer\n",
    "\n",
    "with open('tips.csv') as f:\n",
    "    rdr = csv.reader(f)\n",
    "    hdr = next(rdr)\n",
    "    for row in rdr:\n",
    "        total_bill, tip =row[:2]   #parallel assignments of variable\n",
    "        total_bill = float(total_bill)\n",
    "        tip = float(tip)\n",
    "        print(total_bill, tip)\n"
   ]
  },
  {
   "cell_type": "code",
   "execution_count": 52,
   "metadata": {},
   "outputs": [
    {
     "name": "stdout",
     "output_type": "stream",
     "text": [
      "4827.770000000001 731.58\n"
     ]
    }
   ],
   "source": [
    "tbsum, tip_sum=0,0\n",
    "\n",
    "with open('tips.csv') as f:\n",
    "    rdr = csv.reader(f)\n",
    "    hdr = next(rdr)\n",
    "    for row in rdr:\n",
    "        total_bill, tip =row[:2]  \n",
    "        total_bill = float(total_bill) \n",
    "        tip = float(tip)\n",
    "        #print(total_bill, tip)\n",
    "\n",
    "        tbsum +=total_bill\n",
    "        tip_sum +=tip\n",
    "\n",
    "print(tbsum,tip_sum)"
   ]
  },
  {
   "cell_type": "code",
   "execution_count": 55,
   "metadata": {},
   "outputs": [
    {
     "name": "stdout",
     "output_type": "stream",
     "text": [
      "246.51\n"
     ]
    }
   ],
   "source": [
    "# total tip paid by female\n",
    "\n",
    "tip_sum=0\n",
    "\n",
    "with open('tips.csv') as f:\n",
    "    rdr = csv.reader(f)\n",
    "    for row in rdr:\n",
    "        if row[2] == 'Female':\n",
    "            tip_sum += float(row[1])\n",
    "print(tip_sum)"
   ]
  },
  {
   "cell_type": "code",
   "execution_count": 4,
   "metadata": {},
   "outputs": [
    {
     "name": "stdout",
     "output_type": "stream",
     "text": [
      "246.51\n"
     ]
    }
   ],
   "source": [
    "# dictionary reader used by csv, returs the csv as dictionary, we can iterate over the rows but not by index,\\\n",
    "# by using the column name or header.\n",
    "tip_sum=0\n",
    "\n",
    "with open('tips.csv') as f:\n",
    "    rdr = csv.DictReader(f)\n",
    "    for row in rdr:\n",
    "        if row['sex'] == 'Female':\n",
    "            tip_sum += float(row['tip'])\n",
    "print(tip_sum)"
   ]
  },
  {
   "cell_type": "code",
   "execution_count": 5,
   "metadata": {},
   "outputs": [],
   "source": [
    "import json"
   ]
  },
  {
   "cell_type": "code",
   "execution_count": 7,
   "metadata": {},
   "outputs": [
    {
     "data": {
      "text/plain": [
       "[{'hostname': 'mac1',\n",
       "  'ip': ['192.168.1.18', '10.10.2.9'],\n",
       "  'proc': 'i5',\n",
       "  'mem': 128,\n",
       "  'os': {'base': 'win32', 'bitsize': 32}},\n",
       " {'hostname': 'mac2',\n",
       "  'ip': ['192.168.1.18', '10.10.2.9'],\n",
       "  'proc': 'i5',\n",
       "  'mem': 128,\n",
       "  'os': {'base': 'win32', 'bitsize': 32}}]"
      ]
     },
     "execution_count": 7,
     "metadata": {},
     "output_type": "execute_result"
    }
   ],
   "source": [
    "f = open('data.json')\n",
    "dc = json.load(f)\n",
    "dc"
   ]
  },
  {
   "cell_type": "code",
   "execution_count": 8,
   "metadata": {},
   "outputs": [
    {
     "data": {
      "text/plain": [
       "list"
      ]
     },
     "execution_count": 8,
     "metadata": {},
     "output_type": "execute_result"
    }
   ],
   "source": [
    "type (dc)"
   ]
  },
  {
   "cell_type": "code",
   "execution_count": 9,
   "metadata": {},
   "outputs": [
    {
     "data": {
      "text/plain": [
       "dict"
      ]
     },
     "execution_count": 9,
     "metadata": {},
     "output_type": "execute_result"
    }
   ],
   "source": [
    "type(dc[0])"
   ]
  },
  {
   "cell_type": "code",
   "execution_count": 14,
   "metadata": {},
   "outputs": [
    {
     "data": {
      "text/plain": [
       "128"
      ]
     },
     "execution_count": 14,
     "metadata": {},
     "output_type": "execute_result"
    }
   ],
   "source": [
    "#memory of first machine\n",
    "\n",
    "dc[0]['mem']"
   ]
  },
  {
   "cell_type": "code",
   "execution_count": 15,
   "metadata": {},
   "outputs": [
    {
     "data": {
      "text/plain": [
       "'192.168.1.18'"
      ]
     },
     "execution_count": 15,
     "metadata": {},
     "output_type": "execute_result"
    }
   ],
   "source": [
    "#first ip address of second machine\n",
    "dc[1]['ip'][0]"
   ]
  },
  {
   "cell_type": "code",
   "execution_count": 16,
   "metadata": {},
   "outputs": [
    {
     "data": {
      "text/plain": [
       "[{'hostname': 'mac1',\n",
       "  'ip': ['192.168.1.18', '10.10.2.9'],\n",
       "  'proc': 'i5',\n",
       "  'mem': 128,\n",
       "  'os': {'base': 'win32', 'bitsize': 32}},\n",
       " {'hostname': 'win2',\n",
       "  'ip': ['192.168.1.18', '10.10.2.9', '22.10.34.1'],\n",
       "  'proc': 'i5',\n",
       "  'mem': 128,\n",
       "  'os': {'base': 'win32', 'bitsize': 32}}]"
      ]
     },
     "execution_count": 16,
     "metadata": {},
     "output_type": "execute_result"
    }
   ],
   "source": [
    "dc[1]['hostname']=\"win2\"\n",
    "dc[1]['ip'].append(\"22.10.34.1\")\n",
    "dc"
   ]
  },
  {
   "cell_type": "code",
   "execution_count": 18,
   "metadata": {},
   "outputs": [],
   "source": [
    "outf = open('dcmod.json', 'w')\n",
    "json.dump(dc,outf) # will create a file but won't write into the file\n",
    "\n",
    "outf.flush()# after adding the flush "
   ]
  },
  {
   "cell_type": "code",
   "execution_count": null,
   "metadata": {},
   "outputs": [],
   "source": []
  },
  {
   "cell_type": "code",
   "execution_count": 49,
   "metadata": {},
   "outputs": [
    {
     "name": "stdout",
     "output_type": "stream",
     "text": [
      "93\n",
      "2536.67\n",
      "27.276021505376345\n"
     ]
    }
   ],
   "source": [
    "count =0\n",
    "age = 0\n",
    "with open('titanic.csv') as f:\n",
    "    rdr = csv.DictReader(f)\n",
    "    for row in rdr:\n",
    "        if row['survived'] == '1' and row['sex'] =='male':\n",
    "            if row['age'] != '':\n",
    "                count += 1\n",
    "                age += float(row['age'])\n",
    "\n",
    "print( count)\n",
    "print(age)\n",
    "print(age/count)\n",
    "          "
   ]
  },
  {
   "cell_type": "code",
   "execution_count": 55,
   "metadata": {},
   "outputs": [
    {
     "name": "stdout",
     "output_type": "stream",
     "text": [
      "2\n"
     ]
    }
   ],
   "source": [
    "import json\n",
    "\n",
    "with open('geocode.json') as f:\n",
    "    geo = json.load(f)\n",
    "    print(len(geo['results']))"
   ]
  },
  {
   "cell_type": "code",
   "execution_count": 66,
   "metadata": {},
   "outputs": [
    {
     "name": "stdout",
     "output_type": "stream",
     "text": [
      "{'address_components': [{'long_name': 'Dubai', 'short_name': 'Dubai', 'types': ['administrative_area_level_1', 'political']}, {'long_name': 'United Arab Emirates', 'short_name': 'AE', 'types': ['country', 'political']}], 'formatted_address': 'Sheikh Mohamed Bin Zayed Road (E311), Exit 60,Muhaisanah 2 - Dubai - United Arab Emirates', 'geometry': {'location': {'lat': 25.258679, 'lng': 55.410943}, 'location_type': 'GEOMETRIC_CENTER', 'viewport': {'northeast': {'lat': 25.2600279802915, 'lng': 55.41229198029149}, 'southwest': {'lat': 25.2573300197085, 'lng': 55.4095940197085}}}, 'place_id': 'ChIJocpip3FeXz4RbMBhekhoTrI', 'types': ['establishment', 'point_of_interest']}\n"
     ]
    }
   ],
   "source": [
    "import json\n",
    "\n",
    "with open('geocode.json') as f:\n",
    "    geo = json.load(f)\n",
    "    address=geo['results'][0]\n",
    "    print(address)"
   ]
  },
  {
   "cell_type": "code",
   "execution_count": 67,
   "metadata": {},
   "outputs": [
    {
     "data": {
      "text/plain": [
       "dict_keys(['address_components', 'formatted_address', 'geometry', 'place_id', 'types'])"
      ]
     },
     "execution_count": 67,
     "metadata": {},
     "output_type": "execute_result"
    }
   ],
   "source": [
    "address.keys()"
   ]
  },
  {
   "cell_type": "code",
   "execution_count": 65,
   "metadata": {},
   "outputs": [
    {
     "data": {
      "text/plain": [
       "'Sheikh Mohamed Bin Zayed Road (E311), Exit 60,Muhaisanah 2 - Dubai - United Arab Emirates'"
      ]
     },
     "execution_count": 65,
     "metadata": {},
     "output_type": "execute_result"
    }
   ],
   "source": [
    "address['formatted_address']"
   ]
  },
  {
   "cell_type": "code",
   "execution_count": 78,
   "metadata": {},
   "outputs": [
    {
     "name": "stdout",
     "output_type": "stream",
     "text": [
      "25.258679\n",
      "55.4114503\n"
     ]
    }
   ],
   "source": [
    "# latitude and longitude\n",
    "print(geo['results'][0]['geometry']['location']['lat'])\n",
    "print(geo['results'][1]['geometry']['location']['lng'])"
   ]
  },
  {
   "cell_type": "code",
   "execution_count": 76,
   "metadata": {},
   "outputs": [
    {
     "name": "stdout",
     "output_type": "stream",
     "text": [
      "Sheikh Mohamed Bin Zayed Road (E311), Exit 60,Muhaisanah 2 - Dubai - United Arab Emirates 25.258679 55.410943\n",
      "Dubai - United Arab Emirates 25.2606109 55.4114503\n"
     ]
    }
   ],
   "source": [
    "for result in geo['results']:\n",
    "    location =result['geometry']['location']\n",
    "    print(result['formatted_address'],location['lat'], location['lng'])"
   ]
  },
  {
   "cell_type": "code",
   "execution_count": 86,
   "metadata": {},
   "outputs": [],
   "source": [
    "def f(n):\n",
    "    return n**2"
   ]
  },
  {
   "cell_type": "code",
   "execution_count": 87,
   "metadata": {},
   "outputs": [
    {
     "data": {
      "text/plain": [
       "100"
      ]
     },
     "execution_count": 87,
     "metadata": {},
     "output_type": "execute_result"
    }
   ],
   "source": [
    "f(10)"
   ]
  },
  {
   "cell_type": "code",
   "execution_count": 91,
   "metadata": {},
   "outputs": [],
   "source": [
    "def g(h,n):\n",
    "    return h(n)+1\n"
   ]
  },
  {
   "cell_type": "code",
   "execution_count": 92,
   "metadata": {},
   "outputs": [
    {
     "data": {
      "text/plain": [
       "401"
      ]
     },
     "execution_count": 92,
     "metadata": {},
     "output_type": "execute_result"
    }
   ],
   "source": [
    "g(f,20)"
   ]
  },
  {
   "cell_type": "code",
   "execution_count": 93,
   "metadata": {},
   "outputs": [],
   "source": [
    "nums = range(20,30)"
   ]
  },
  {
   "cell_type": "code",
   "execution_count": 94,
   "metadata": {},
   "outputs": [],
   "source": [
    "sqs =[]\n",
    "\n",
    "for num in nums:\n",
    "    sqs.append(num**2)"
   ]
  },
  {
   "cell_type": "code",
   "execution_count": 95,
   "metadata": {},
   "outputs": [
    {
     "data": {
      "text/plain": [
       "[400, 441, 484, 529, 576, 625, 676, 729, 784, 841]"
      ]
     },
     "execution_count": 95,
     "metadata": {},
     "output_type": "execute_result"
    }
   ],
   "source": [
    "sqs"
   ]
  },
  {
   "cell_type": "code",
   "execution_count": 97,
   "metadata": {},
   "outputs": [
    {
     "data": {
      "text/plain": [
       "[400, 441, 484, 529, 576, 625, 676, 729, 784, 841]"
      ]
     },
     "execution_count": 97,
     "metadata": {},
     "output_type": "execute_result"
    }
   ],
   "source": [
    "list(map(f,nums)) #map is a meta function which is taking another function as arguments"
   ]
  },
  {
   "cell_type": "code",
   "execution_count": 98,
   "metadata": {},
   "outputs": [
    {
     "data": {
      "text/plain": [
       "['123.45', '2.1', '9.75', '141', '0.01']"
      ]
     },
     "execution_count": 98,
     "metadata": {},
     "output_type": "execute_result"
    }
   ],
   "source": [
    "nums = '123.45 2.1 9.75 141 0.01'\n",
    "nums.split()"
   ]
  },
  {
   "cell_type": "code",
   "execution_count": 102,
   "metadata": {},
   "outputs": [
    {
     "data": {
      "text/plain": [
       "[123.45, 2.1, 9.75, 141.0, 0.01]"
      ]
     },
     "execution_count": 102,
     "metadata": {},
     "output_type": "execute_result"
    }
   ],
   "source": [
    "list(map(float, nums.split())) # float as a type can be passed as an argument"
   ]
  },
  {
   "cell_type": "code",
   "execution_count": 103,
   "metadata": {},
   "outputs": [
    {
     "data": {
      "text/plain": [
       "[6, 3, 4, 3, 4]"
      ]
     },
     "execution_count": 103,
     "metadata": {},
     "output_type": "execute_result"
    }
   ],
   "source": [
    "list(map(len,nums.split()))"
   ]
  },
  {
   "cell_type": "code",
   "execution_count": 104,
   "metadata": {},
   "outputs": [],
   "source": [
    "sentence = 'the quick brown fox'"
   ]
  },
  {
   "cell_type": "code",
   "execution_count": 105,
   "metadata": {},
   "outputs": [],
   "source": [
    "def toupper(str):\n",
    "    return str.upper()"
   ]
  },
  {
   "cell_type": "code",
   "execution_count": 107,
   "metadata": {},
   "outputs": [
    {
     "data": {
      "text/plain": [
       "['THE', 'QUICK', 'BROWN', 'FOX']"
      ]
     },
     "execution_count": 107,
     "metadata": {},
     "output_type": "execute_result"
    }
   ],
   "source": [
    "list(map(toupper, sentence.split()))"
   ]
  },
  {
   "cell_type": "code",
   "execution_count": 125,
   "metadata": {},
   "outputs": [],
   "source": [
    "nums = [\n",
    "    (1,0,2,0,2),\n",
    "    (0,0,3,4,2),\n",
    "    (4,3,2,1)\n",
    "]"
   ]
  },
  {
   "cell_type": "code",
   "execution_count": 127,
   "metadata": {},
   "outputs": [
    {
     "data": {
      "text/plain": [
       "tuple"
      ]
     },
     "execution_count": 127,
     "metadata": {},
     "output_type": "execute_result"
    }
   ],
   "source": [
    "type(nums[0])"
   ]
  },
  {
   "cell_type": "code",
   "execution_count": 128,
   "metadata": {},
   "outputs": [],
   "source": [
    "def count0(t):\n",
    "    print(t)\n",
    "    return t.count(0)"
   ]
  },
  {
   "cell_type": "code",
   "execution_count": 129,
   "metadata": {},
   "outputs": [
    {
     "name": "stdout",
     "output_type": "stream",
     "text": [
      "(1, 0, 2, 0, 2)\n",
      "(0, 0, 3, 4, 2)\n",
      "(4, 3, 2, 1)\n"
     ]
    },
    {
     "data": {
      "text/plain": [
       "[2, 2, 0]"
      ]
     },
     "execution_count": 129,
     "metadata": {},
     "output_type": "execute_result"
    }
   ],
   "source": [
    "list(map(count0, nums))"
   ]
  },
  {
   "cell_type": "markdown",
   "metadata": {},
   "source": [
    "#Comprehensions"
   ]
  },
  {
   "cell_type": "code",
   "execution_count": 113,
   "metadata": {},
   "outputs": [
    {
     "data": {
      "text/plain": [
       "[400, 441, 484, 529, 576, 625, 676, 729, 784, 841]"
      ]
     },
     "execution_count": 113,
     "metadata": {},
     "output_type": "execute_result"
    }
   ],
   "source": [
    "nums = range(20,30)\n",
    "[num**2 for num in nums]"
   ]
  },
  {
   "cell_type": "code",
   "execution_count": 130,
   "metadata": {},
   "outputs": [
    {
     "data": {
      "text/plain": [
       "[3, 5, 5, 3]"
      ]
     },
     "execution_count": 130,
     "metadata": {},
     "output_type": "execute_result"
    }
   ],
   "source": [
    "[len(words) for words in sentence.split()]"
   ]
  },
  {
   "cell_type": "code",
   "execution_count": 136,
   "metadata": {},
   "outputs": [],
   "source": [
    "def oddevenfun(n):\n",
    "    l=[]\n",
    "    if n%2 ==0 :\n",
    "        return n\n",
    "    else:\n",
    "        l.append(n)\n",
    "    return l\n",
    "    \n",
    "\n"
   ]
  },
  {
   "cell_type": "code",
   "execution_count": 137,
   "metadata": {},
   "outputs": [
    {
     "data": {
      "text/plain": [
       "[[1], 2, [3], 4, [5], 6, [7], 8, [9]]"
      ]
     },
     "execution_count": 137,
     "metadata": {},
     "output_type": "execute_result"
    }
   ],
   "source": [
    "n = [_ for _ in range(1,10)]\n",
    "\n",
    "list(map(oddevenfun, n))"
   ]
  }
 ],
 "metadata": {
  "kernelspec": {
   "display_name": "Python 3",
   "language": "python",
   "name": "python3"
  },
  "language_info": {
   "codemirror_mode": {
    "name": "ipython",
    "version": 3
   },
   "file_extension": ".py",
   "mimetype": "text/x-python",
   "name": "python",
   "nbconvert_exporter": "python",
   "pygments_lexer": "ipython3",
   "version": "3.11.9"
  }
 },
 "nbformat": 4,
 "nbformat_minor": 2
}
